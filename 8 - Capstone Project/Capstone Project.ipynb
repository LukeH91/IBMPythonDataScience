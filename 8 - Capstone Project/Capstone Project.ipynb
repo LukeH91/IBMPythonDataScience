{
 "cells": [
  {
   "cell_type": "code",
   "execution_count": null,
   "metadata": {},
   "outputs": [],
   "source": [
    "import numpy as np\n",
    "import pandas as pd"
   ]
  },
  {
   "cell_type": "code",
   "execution_count": 87,
   "metadata": {},
   "outputs": [],
   "source": [
    "sdata = pd.read_csv(\"311_Service_Requests_from_2010_to_Present_min.csv\")"
   ]
  },
  {
   "cell_type": "code",
   "execution_count": null,
   "metadata": {},
   "outputs": [],
   "source": [
    "bronx = pd.read_csv(\"BX_18v1.csv\")\n",
    "brooklyn = pd.read_csv(\"BK_18v1.csv\")\n",
    "manhattan = pd.read_csv(\"MN_18v1.csv\")\n",
    "queens = pd.read_csv(\"QN_18v1.csv\")\n",
    "staten = pd.read_csv(\"SI_18v1.csv\")"
   ]
  },
  {
   "cell_type": "code",
   "execution_count": 19,
   "metadata": {},
   "outputs": [
    {
     "data": {
      "text/html": [
       "<div>\n",
       "<style scoped>\n",
       "    .dataframe tbody tr th:only-of-type {\n",
       "        vertical-align: middle;\n",
       "    }\n",
       "\n",
       "    .dataframe tbody tr th {\n",
       "        vertical-align: top;\n",
       "    }\n",
       "\n",
       "    .dataframe thead th {\n",
       "        text-align: right;\n",
       "    }\n",
       "</style>\n",
       "<table border=\"1\" class=\"dataframe\">\n",
       "  <thead>\n",
       "    <tr style=\"text-align: right;\">\n",
       "      <th></th>\n",
       "      <th>Unnamed: 0</th>\n",
       "      <th>Unique Key</th>\n",
       "      <th>Created Date</th>\n",
       "      <th>Closed Date</th>\n",
       "      <th>Complaint Type</th>\n",
       "      <th>Location Type</th>\n",
       "      <th>Incident Zip</th>\n",
       "      <th>Incident Address</th>\n",
       "      <th>Street Name</th>\n",
       "      <th>Address Type</th>\n",
       "      <th>City</th>\n",
       "      <th>Status</th>\n",
       "      <th>Resolution Description</th>\n",
       "      <th>Borough</th>\n",
       "      <th>Latitude</th>\n",
       "      <th>Longitude</th>\n",
       "    </tr>\n",
       "  </thead>\n",
       "  <tbody>\n",
       "    <tr>\n",
       "      <th>0</th>\n",
       "      <td>0</td>\n",
       "      <td>45531130</td>\n",
       "      <td>02/02/2020 06:09:17 AM</td>\n",
       "      <td>NaN</td>\n",
       "      <td>HEAT/HOT WATER</td>\n",
       "      <td>RESIDENTIAL BUILDING</td>\n",
       "      <td>10019.0</td>\n",
       "      <td>426 WEST   52 STREET</td>\n",
       "      <td>WEST   52 STREET</td>\n",
       "      <td>ADDRESS</td>\n",
       "      <td>NEW YORK</td>\n",
       "      <td>Open</td>\n",
       "      <td>The following complaint conditions are still o...</td>\n",
       "      <td>MANHATTAN</td>\n",
       "      <td>40.765132</td>\n",
       "      <td>-73.988993</td>\n",
       "    </tr>\n",
       "    <tr>\n",
       "      <th>1</th>\n",
       "      <td>1</td>\n",
       "      <td>45529784</td>\n",
       "      <td>02/02/2020 02:15:24 PM</td>\n",
       "      <td>NaN</td>\n",
       "      <td>UNSANITARY CONDITION</td>\n",
       "      <td>RESIDENTIAL BUILDING</td>\n",
       "      <td>11204.0</td>\n",
       "      <td>1751 67 STREET</td>\n",
       "      <td>67 STREET</td>\n",
       "      <td>ADDRESS</td>\n",
       "      <td>BROOKLYN</td>\n",
       "      <td>Open</td>\n",
       "      <td>The following complaint conditions are still o...</td>\n",
       "      <td>BROOKLYN</td>\n",
       "      <td>40.618484</td>\n",
       "      <td>-73.992673</td>\n",
       "    </tr>\n",
       "    <tr>\n",
       "      <th>2</th>\n",
       "      <td>2</td>\n",
       "      <td>45527528</td>\n",
       "      <td>02/02/2020 02:27:41 AM</td>\n",
       "      <td>NaN</td>\n",
       "      <td>HEAT/HOT WATER</td>\n",
       "      <td>RESIDENTIAL BUILDING</td>\n",
       "      <td>11372.0</td>\n",
       "      <td>87-15 37 AVENUE</td>\n",
       "      <td>37 AVENUE</td>\n",
       "      <td>ADDRESS</td>\n",
       "      <td>Jackson Heights</td>\n",
       "      <td>Open</td>\n",
       "      <td>The following complaint conditions are still o...</td>\n",
       "      <td>QUEENS</td>\n",
       "      <td>40.750269</td>\n",
       "      <td>-73.879432</td>\n",
       "    </tr>\n",
       "    <tr>\n",
       "      <th>3</th>\n",
       "      <td>3</td>\n",
       "      <td>45530329</td>\n",
       "      <td>02/02/2020 12:13:18 PM</td>\n",
       "      <td>NaN</td>\n",
       "      <td>HEAT/HOT WATER</td>\n",
       "      <td>RESIDENTIAL BUILDING</td>\n",
       "      <td>10458.0</td>\n",
       "      <td>2405 SOUTHERN BOULEVARD</td>\n",
       "      <td>SOUTHERN BOULEVARD</td>\n",
       "      <td>ADDRESS</td>\n",
       "      <td>BRONX</td>\n",
       "      <td>Open</td>\n",
       "      <td>The following complaint conditions are still o...</td>\n",
       "      <td>BRONX</td>\n",
       "      <td>40.853773</td>\n",
       "      <td>-73.881558</td>\n",
       "    </tr>\n",
       "    <tr>\n",
       "      <th>4</th>\n",
       "      <td>4</td>\n",
       "      <td>45528814</td>\n",
       "      <td>02/02/2020 01:59:44 PM</td>\n",
       "      <td>NaN</td>\n",
       "      <td>APPLIANCE</td>\n",
       "      <td>RESIDENTIAL BUILDING</td>\n",
       "      <td>11209.0</td>\n",
       "      <td>223 78 STREET</td>\n",
       "      <td>78 STREET</td>\n",
       "      <td>ADDRESS</td>\n",
       "      <td>BROOKLYN</td>\n",
       "      <td>Open</td>\n",
       "      <td>The following complaint conditions are still o...</td>\n",
       "      <td>BROOKLYN</td>\n",
       "      <td>40.629745</td>\n",
       "      <td>-74.030533</td>\n",
       "    </tr>\n",
       "  </tbody>\n",
       "</table>\n",
       "</div>"
      ],
      "text/plain": [
       "   Unnamed: 0  Unique Key            Created Date Closed Date  \\\n",
       "0           0    45531130  02/02/2020 06:09:17 AM         NaN   \n",
       "1           1    45529784  02/02/2020 02:15:24 PM         NaN   \n",
       "2           2    45527528  02/02/2020 02:27:41 AM         NaN   \n",
       "3           3    45530329  02/02/2020 12:13:18 PM         NaN   \n",
       "4           4    45528814  02/02/2020 01:59:44 PM         NaN   \n",
       "\n",
       "         Complaint Type         Location Type  Incident Zip  \\\n",
       "0        HEAT/HOT WATER  RESIDENTIAL BUILDING       10019.0   \n",
       "1  UNSANITARY CONDITION  RESIDENTIAL BUILDING       11204.0   \n",
       "2        HEAT/HOT WATER  RESIDENTIAL BUILDING       11372.0   \n",
       "3        HEAT/HOT WATER  RESIDENTIAL BUILDING       10458.0   \n",
       "4             APPLIANCE  RESIDENTIAL BUILDING       11209.0   \n",
       "\n",
       "          Incident Address         Street Name Address Type             City  \\\n",
       "0     426 WEST   52 STREET    WEST   52 STREET      ADDRESS         NEW YORK   \n",
       "1           1751 67 STREET           67 STREET      ADDRESS         BROOKLYN   \n",
       "2          87-15 37 AVENUE           37 AVENUE      ADDRESS  Jackson Heights   \n",
       "3  2405 SOUTHERN BOULEVARD  SOUTHERN BOULEVARD      ADDRESS            BRONX   \n",
       "4            223 78 STREET           78 STREET      ADDRESS         BROOKLYN   \n",
       "\n",
       "  Status                             Resolution Description    Borough  \\\n",
       "0   Open  The following complaint conditions are still o...  MANHATTAN   \n",
       "1   Open  The following complaint conditions are still o...   BROOKLYN   \n",
       "2   Open  The following complaint conditions are still o...     QUEENS   \n",
       "3   Open  The following complaint conditions are still o...      BRONX   \n",
       "4   Open  The following complaint conditions are still o...   BROOKLYN   \n",
       "\n",
       "    Latitude  Longitude  \n",
       "0  40.765132 -73.988993  \n",
       "1  40.618484 -73.992673  \n",
       "2  40.750269 -73.879432  \n",
       "3  40.853773 -73.881558  \n",
       "4  40.629745 -74.030533  "
      ]
     },
     "execution_count": 19,
     "metadata": {},
     "output_type": "execute_result"
    }
   ],
   "source": [
    "sdata.head()"
   ]
  },
  {
   "cell_type": "code",
   "execution_count": 88,
   "metadata": {},
   "outputs": [
    {
     "data": {
      "text/plain": [
       "HEAT/HOT WATER            1261574\n",
       "HEATING                    887850\n",
       "PLUMBING                   711130\n",
       "GENERAL CONSTRUCTION       500863\n",
       "UNSANITARY CONDITION       451643\n",
       "PAINT - PLASTER            361257\n",
       "PAINT/PLASTER              346438\n",
       "ELECTRIC                   307310\n",
       "NONCONST                   260890\n",
       "DOOR/WINDOW                205278\n",
       "WATER LEAK                 193631\n",
       "GENERAL                    151308\n",
       "FLOORING/STAIRS            137402\n",
       "APPLIANCE                  112831\n",
       "HPD Literature Request      52824\n",
       "SAFETY                      51529\n",
       "OUTSIDE BUILDING             7142\n",
       "ELEVATOR                     6725\n",
       "Unsanitary Condition         5499\n",
       "CONSTRUCTION                 5078\n",
       "General                      1163\n",
       "Safety                        424\n",
       "STRUCTURAL                     16\n",
       "Plumbing                       11\n",
       "AGENCY                          9\n",
       "Outside Building                6\n",
       "VACANT APARTMENT                6\n",
       "Appliance                       4\n",
       "Electric                        1\n",
       "Mold                            1\n",
       "Name: Complaint Type, dtype: int64"
      ]
     },
     "execution_count": 88,
     "metadata": {},
     "output_type": "execute_result"
    }
   ],
   "source": [
    "sdata[\"Complaint Type\"].value_counts()"
   ]
  },
  {
   "cell_type": "code",
   "execution_count": 90,
   "metadata": {},
   "outputs": [],
   "source": [
    "heating = sdata[(sdata['Complaint Type'] == \"HEATING\") | (sdata[\"Complaint Type\"] == \"HEAT/HOT WATER\")]"
   ]
  },
  {
   "cell_type": "code",
   "execution_count": 79,
   "metadata": {},
   "outputs": [
    {
     "data": {
      "text/plain": [
       "BROOKLYN         280353\n",
       "BRONX            279771\n",
       "NEW YORK         193908\n",
       "STATEN ISLAND      9377\n",
       "JAMAICA            8559\n",
       "                  ...  \n",
       "Breezy Point         11\n",
       "BREEZY POINT          8\n",
       "New Hyde Park         6\n",
       "NEW HYDE PARK         5\n",
       "QUEENS                3\n",
       "Name: City, Length: 89, dtype: int64"
      ]
     },
     "execution_count": 79,
     "metadata": {},
     "output_type": "execute_result"
    }
   ],
   "source": [
    "heating[\"City\"].value_counts()"
   ]
  },
  {
   "cell_type": "code",
   "execution_count": 92,
   "metadata": {},
   "outputs": [
    {
     "data": {
      "text/plain": [
       "(2149424, 16)"
      ]
     },
     "execution_count": 92,
     "metadata": {},
     "output_type": "execute_result"
    }
   ],
   "source": [
    "heating.shape"
   ]
  },
  {
   "cell_type": "code",
   "execution_count": 93,
   "metadata": {},
   "outputs": [
    {
     "data": {
      "text/plain": [
       "Closed     2133331\n",
       "Open         16091\n",
       "Pending          2\n",
       "Name: Status, dtype: int64"
      ]
     },
     "execution_count": 93,
     "metadata": {},
     "output_type": "execute_result"
    }
   ],
   "source": [
    "heating[\"Status\"].value_counts()"
   ]
  },
  {
   "cell_type": "code",
   "execution_count": 74,
   "metadata": {},
   "outputs": [
    {
     "data": {
      "text/plain": [
       "876553"
      ]
     },
     "execution_count": 74,
     "metadata": {},
     "output_type": "execute_result"
    }
   ],
   "source": [
    "(~heating[\"Closed Date\"].isna()).sum()"
   ]
  },
  {
   "cell_type": "code",
   "execution_count": 83,
   "metadata": {},
   "outputs": [
    {
     "data": {
      "text/plain": [
       "HEATING    887850\n",
       "Name: Complaint Type, dtype: int64"
      ]
     },
     "execution_count": 83,
     "metadata": {},
     "output_type": "execute_result"
    }
   ],
   "source": [
    "heating[\"Complaint Type\"].value_counts()"
   ]
  },
  {
   "cell_type": "code",
   "execution_count": 55,
   "metadata": {},
   "outputs": [
    {
     "data": {
      "text/plain": [
       "Series([], Name: Complaint Type, dtype: int64)"
      ]
     },
     "execution_count": 55,
     "metadata": {},
     "output_type": "execute_result"
    }
   ],
   "source": [
    "heathot[\"Complaint Type\"].value_counts()"
   ]
  },
  {
   "cell_type": "code",
   "execution_count": 96,
   "metadata": {},
   "outputs": [
    {
     "data": {
      "text/plain": [
       "Index(['Borough', 'Block', 'Lot', 'CD', 'CT2010', 'CB2010', 'SchoolDist',\n",
       "       'Council', 'ZipCode', 'FireComp', 'PolicePrct', 'HealthCenterDistrict',\n",
       "       'HealthArea', 'SanitBoro', 'SanitDistrict', 'SanitSub', 'Address',\n",
       "       'ZoneDist1', 'ZoneDist2', 'ZoneDist3', 'ZoneDist4', 'Overlay1',\n",
       "       'Overlay2', 'SPDist1', 'SPDist2', 'SPDist3', 'LtdHeight', 'SplitZone',\n",
       "       'BldgClass', 'LandUse', 'Easements', 'OwnerType', 'OwnerName',\n",
       "       'LotArea', 'BldgArea', 'ComArea', 'ResArea', 'OfficeArea', 'RetailArea',\n",
       "       'GarageArea', 'StrgeArea', 'FactryArea', 'OtherArea', 'AreaSource',\n",
       "       'NumBldgs', 'NumFloors', 'UnitsRes', 'UnitsTotal', 'LotFront',\n",
       "       'LotDepth', 'BldgFront', 'BldgDepth', 'Ext', 'ProxCode', 'IrrLotCode',\n",
       "       'LotType', 'BsmtCode', 'AssessLand', 'AssessTot', 'ExemptLand',\n",
       "       'ExemptTot', 'YearBuilt', 'YearAlter1', 'YearAlter2', 'HistDist',\n",
       "       'Landmark', 'BuiltFAR', 'ResidFAR', 'CommFAR', 'FacilFAR', 'BoroCode',\n",
       "       'BBL', 'CondoNo', 'Tract2010', 'XCoord', 'YCoord', 'ZoneMap', 'ZMCode',\n",
       "       'Sanborn', 'TaxMap', 'EDesigNum', 'APPBBL', 'APPDate', 'PLUTOMapID',\n",
       "       'FIRM07_FLAG', 'PFIRM15_FLAG', 'Version'],\n",
       "      dtype='object')"
      ]
     },
     "execution_count": 96,
     "metadata": {},
     "output_type": "execute_result"
    }
   ],
   "source": [
    "bronx.columns"
   ]
  },
  {
   "cell_type": "code",
   "execution_count": null,
   "metadata": {},
   "outputs": [],
   "source": []
  }
 ],
 "metadata": {
  "kernelspec": {
   "display_name": "Python 3",
   "language": "python",
   "name": "python3"
  },
  "language_info": {
   "codemirror_mode": {
    "name": "ipython",
    "version": 3
   },
   "file_extension": ".py",
   "mimetype": "text/x-python",
   "name": "python",
   "nbconvert_exporter": "python",
   "pygments_lexer": "ipython3",
   "version": "3.8.5"
  }
 },
 "nbformat": 4,
 "nbformat_minor": 4
}
