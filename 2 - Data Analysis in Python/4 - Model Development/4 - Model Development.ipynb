{
 "cells": [
  {
   "cell_type": "code",
   "execution_count": 34,
   "metadata": {},
   "outputs": [
    {
     "data": {
      "text/html": [
       "<div>\n",
       "<style scoped>\n",
       "    .dataframe tbody tr th:only-of-type {\n",
       "        vertical-align: middle;\n",
       "    }\n",
       "\n",
       "    .dataframe tbody tr th {\n",
       "        vertical-align: top;\n",
       "    }\n",
       "\n",
       "    .dataframe thead th {\n",
       "        text-align: right;\n",
       "    }\n",
       "</style>\n",
       "<table border=\"1\" class=\"dataframe\">\n",
       "  <thead>\n",
       "    <tr style=\"text-align: right;\">\n",
       "      <th></th>\n",
       "      <th>symboling</th>\n",
       "      <th>normalized-losses</th>\n",
       "      <th>make</th>\n",
       "      <th>aspiration</th>\n",
       "      <th>num-of-doors</th>\n",
       "      <th>body-style</th>\n",
       "      <th>drive-wheels</th>\n",
       "      <th>engine-location</th>\n",
       "      <th>wheel-base</th>\n",
       "      <th>length</th>\n",
       "      <th>...</th>\n",
       "      <th>compression-ratio</th>\n",
       "      <th>horsepower</th>\n",
       "      <th>peak-rpm</th>\n",
       "      <th>city-mpg</th>\n",
       "      <th>highway-mpg</th>\n",
       "      <th>price</th>\n",
       "      <th>city-L/100km</th>\n",
       "      <th>horsepower-binned</th>\n",
       "      <th>diesel</th>\n",
       "      <th>gas</th>\n",
       "    </tr>\n",
       "  </thead>\n",
       "  <tbody>\n",
       "    <tr>\n",
       "      <th>0</th>\n",
       "      <td>3</td>\n",
       "      <td>122</td>\n",
       "      <td>alfa-romero</td>\n",
       "      <td>std</td>\n",
       "      <td>two</td>\n",
       "      <td>convertible</td>\n",
       "      <td>rwd</td>\n",
       "      <td>front</td>\n",
       "      <td>88.6</td>\n",
       "      <td>0.811148</td>\n",
       "      <td>...</td>\n",
       "      <td>9.0</td>\n",
       "      <td>111.0</td>\n",
       "      <td>5000.0</td>\n",
       "      <td>21</td>\n",
       "      <td>27</td>\n",
       "      <td>13495.0</td>\n",
       "      <td>11.190476</td>\n",
       "      <td>Medium</td>\n",
       "      <td>0</td>\n",
       "      <td>1</td>\n",
       "    </tr>\n",
       "    <tr>\n",
       "      <th>1</th>\n",
       "      <td>3</td>\n",
       "      <td>122</td>\n",
       "      <td>alfa-romero</td>\n",
       "      <td>std</td>\n",
       "      <td>two</td>\n",
       "      <td>convertible</td>\n",
       "      <td>rwd</td>\n",
       "      <td>front</td>\n",
       "      <td>88.6</td>\n",
       "      <td>0.811148</td>\n",
       "      <td>...</td>\n",
       "      <td>9.0</td>\n",
       "      <td>111.0</td>\n",
       "      <td>5000.0</td>\n",
       "      <td>21</td>\n",
       "      <td>27</td>\n",
       "      <td>16500.0</td>\n",
       "      <td>11.190476</td>\n",
       "      <td>Medium</td>\n",
       "      <td>0</td>\n",
       "      <td>1</td>\n",
       "    </tr>\n",
       "    <tr>\n",
       "      <th>2</th>\n",
       "      <td>1</td>\n",
       "      <td>122</td>\n",
       "      <td>alfa-romero</td>\n",
       "      <td>std</td>\n",
       "      <td>two</td>\n",
       "      <td>hatchback</td>\n",
       "      <td>rwd</td>\n",
       "      <td>front</td>\n",
       "      <td>94.5</td>\n",
       "      <td>0.822681</td>\n",
       "      <td>...</td>\n",
       "      <td>9.0</td>\n",
       "      <td>154.0</td>\n",
       "      <td>5000.0</td>\n",
       "      <td>19</td>\n",
       "      <td>26</td>\n",
       "      <td>16500.0</td>\n",
       "      <td>12.368421</td>\n",
       "      <td>Medium</td>\n",
       "      <td>0</td>\n",
       "      <td>1</td>\n",
       "    </tr>\n",
       "    <tr>\n",
       "      <th>3</th>\n",
       "      <td>2</td>\n",
       "      <td>164</td>\n",
       "      <td>audi</td>\n",
       "      <td>std</td>\n",
       "      <td>four</td>\n",
       "      <td>sedan</td>\n",
       "      <td>fwd</td>\n",
       "      <td>front</td>\n",
       "      <td>99.8</td>\n",
       "      <td>0.848630</td>\n",
       "      <td>...</td>\n",
       "      <td>10.0</td>\n",
       "      <td>102.0</td>\n",
       "      <td>5500.0</td>\n",
       "      <td>24</td>\n",
       "      <td>30</td>\n",
       "      <td>13950.0</td>\n",
       "      <td>9.791667</td>\n",
       "      <td>Medium</td>\n",
       "      <td>0</td>\n",
       "      <td>1</td>\n",
       "    </tr>\n",
       "    <tr>\n",
       "      <th>4</th>\n",
       "      <td>2</td>\n",
       "      <td>164</td>\n",
       "      <td>audi</td>\n",
       "      <td>std</td>\n",
       "      <td>four</td>\n",
       "      <td>sedan</td>\n",
       "      <td>4wd</td>\n",
       "      <td>front</td>\n",
       "      <td>99.4</td>\n",
       "      <td>0.848630</td>\n",
       "      <td>...</td>\n",
       "      <td>8.0</td>\n",
       "      <td>115.0</td>\n",
       "      <td>5500.0</td>\n",
       "      <td>18</td>\n",
       "      <td>22</td>\n",
       "      <td>17450.0</td>\n",
       "      <td>13.055556</td>\n",
       "      <td>Medium</td>\n",
       "      <td>0</td>\n",
       "      <td>1</td>\n",
       "    </tr>\n",
       "  </tbody>\n",
       "</table>\n",
       "<p>5 rows × 29 columns</p>\n",
       "</div>"
      ],
      "text/plain": [
       "   symboling  normalized-losses         make aspiration num-of-doors  \\\n",
       "0          3                122  alfa-romero        std          two   \n",
       "1          3                122  alfa-romero        std          two   \n",
       "2          1                122  alfa-romero        std          two   \n",
       "3          2                164         audi        std         four   \n",
       "4          2                164         audi        std         four   \n",
       "\n",
       "    body-style drive-wheels engine-location  wheel-base    length  ...  \\\n",
       "0  convertible          rwd           front        88.6  0.811148  ...   \n",
       "1  convertible          rwd           front        88.6  0.811148  ...   \n",
       "2    hatchback          rwd           front        94.5  0.822681  ...   \n",
       "3        sedan          fwd           front        99.8  0.848630  ...   \n",
       "4        sedan          4wd           front        99.4  0.848630  ...   \n",
       "\n",
       "   compression-ratio  horsepower  peak-rpm city-mpg highway-mpg    price  \\\n",
       "0                9.0       111.0    5000.0       21          27  13495.0   \n",
       "1                9.0       111.0    5000.0       21          27  16500.0   \n",
       "2                9.0       154.0    5000.0       19          26  16500.0   \n",
       "3               10.0       102.0    5500.0       24          30  13950.0   \n",
       "4                8.0       115.0    5500.0       18          22  17450.0   \n",
       "\n",
       "  city-L/100km  horsepower-binned  diesel  gas  \n",
       "0    11.190476             Medium       0    1  \n",
       "1    11.190476             Medium       0    1  \n",
       "2    12.368421             Medium       0    1  \n",
       "3     9.791667             Medium       0    1  \n",
       "4    13.055556             Medium       0    1  \n",
       "\n",
       "[5 rows x 29 columns]"
      ]
     },
     "execution_count": 34,
     "metadata": {},
     "output_type": "execute_result"
    }
   ],
   "source": [
    "import pandas as pd\n",
    "import numpy as np\n",
    "import matplotlib.pyplot as plt\n",
    "import seaborn as sns\n",
    "from sklearn.preprocessing import PolynomialFeatures\n",
    "from sklearn.preprocessing import StandardScaler\n",
    "from sklearn.linear_model import LinearRegression\n",
    "from sklearn.pipeline import Pipeline\n",
    "from sklearn.metrics import mean_squared_error\n",
    "path = 'https://cf-courses-data.s3.us.cloud-object-storage.appdomain.cloud/IBMDeveloperSkillsNetwork-DA0101EN-SkillsNetwork/labs/Data%20files/automobileEDA.csv'\n",
    "df = pd.read_csv(path)\n",
    "df.head()"
   ]
  },
  {
   "cell_type": "code",
   "execution_count": 15,
   "metadata": {},
   "outputs": [
    {
     "name": "stdout",
     "output_type": "stream",
     "text": [
      "38423.305858157386\n",
      "[-821.73337832]\n"
     ]
    }
   ],
   "source": [
    "lm = LinearRegression()\n",
    "X = df[[\"highway-mpg\"]]\n",
    "Y = df[\"price\"]\n",
    "lm.fit(X, Y)\n",
    "Yhat = lm.predict(X)\n",
    "print(lm.intercept_)\n",
    "print(lm.coef_)"
   ]
  },
  {
   "cell_type": "code",
   "execution_count": 9,
   "metadata": {},
   "outputs": [
    {
     "name": "stdout",
     "output_type": "stream",
     "text": [
      "-15806.624626329223\n",
      "[53.49574423  4.70770099 81.53026382 36.05748882]\n"
     ]
    }
   ],
   "source": [
    "lm = LinearRegression()\n",
    "Z = df[[\"horsepower\",\"curb-weight\",\"engine-size\",\"highway-mpg\"]]\n",
    "lm.fit(Z,df[\"price\"])\n",
    "print(lm.intercept_)\n",
    "print(lm.coef_)"
   ]
  },
  {
   "cell_type": "code",
   "execution_count": 11,
   "metadata": {},
   "outputs": [
    {
     "data": {
      "text/plain": [
       "(0.0, 48175.9905408854)"
      ]
     },
     "execution_count": 11,
     "metadata": {},
     "output_type": "execute_result"
    },
    {
     "data": {
      "image/png": "[encoded data removed]",
      "text/plain": [
       "<Figure size 432x288 with 1 Axes>"
      ]
     },
     "metadata": {
      "needs_background": "light"
     },
     "output_type": "display_data"
    }
   ],
   "source": [
    "sns.regplot(x=\"highway-mpg\",y=\"price\",data=df)\n",
    "plt.ylim(0,)"
   ]
  },
  {
   "cell_type": "code",
   "execution_count": 13,
   "metadata": {},
   "outputs": [
    {
     "data": {
      "text/plain": [
       "<AxesSubplot:xlabel='highway-mpg', ylabel='price'>"
      ]
     },
     "execution_count": 13,
     "metadata": {},
     "output_type": "execute_result"
    },
    {
     "data": {
      "image/png": "[encoded data removed]",
      "text/plain": [
       "<Figure size 432x288 with 1 Axes>"
      ]
     },
     "metadata": {
      "needs_background": "light"
     },
     "output_type": "display_data"
    }
   ],
   "source": [
    "sns.residplot(df[\"highway-mpg\"],df[\"price\"])"
   ]
  },
  {
   "cell_type": "code",
   "execution_count": 16,
   "metadata": {},
   "outputs": [
    {
     "name": "stderr",
     "output_type": "stream",
     "text": [
      "C:\\Users\\lukeh\\anaconda3\\lib\\site-packages\\seaborn\\distributions.py:2551: FutureWarning: `distplot` is a deprecated function and will be removed in a future version. Please adapt your code to use either `displot` (a figure-level function with similar flexibility) or `kdeplot` (an axes-level function for kernel density plots).\n",
      "  warnings.warn(msg, FutureWarning)\n",
      "C:\\Users\\lukeh\\anaconda3\\lib\\site-packages\\seaborn\\distributions.py:2551: FutureWarning: `distplot` is a deprecated function and will be removed in a future version. Please adapt your code to use either `displot` (a figure-level function with similar flexibility) or `kdeplot` (an axes-level function for kernel density plots).\n",
      "  warnings.warn(msg, FutureWarning)\n"
     ]
    },
    {
     "data": {
      "text/plain": [
       "<AxesSubplot:xlabel='price', ylabel='Density'>"
      ]
     },
     "execution_count": 16,
     "metadata": {},
     "output_type": "execute_result"
    },
    {
     "data": {
      "image/png": "[encoded data removed]",
      "text/plain": [
       "<Figure size 432x288 with 1 Axes>"
      ]
     },
     "metadata": {
      "needs_background": "light"
     },
     "output_type": "display_data"
    }
   ],
   "source": [
    "ax1 = sns.distplot(df[\"price\"], hist=False, color=\"r\", label=\"Actual Value\")\n",
    "sns.distplot(Yhat,hist=False,color=\"b\",label=\"Fitted Values\",ax=ax1)"
   ]
  },
  {
   "cell_type": "code",
   "execution_count": 23,
   "metadata": {},
   "outputs": [
    {
     "data": {
      "text/plain": [
       "array([[1.1100000e+02, 2.5480000e+03, 1.2321000e+04, 2.8282800e+05,\n",
       "        6.4923040e+06],\n",
       "       [1.1100000e+02, 2.5480000e+03, 1.2321000e+04, 2.8282800e+05,\n",
       "        6.4923040e+06],\n",
       "       [1.5400000e+02, 2.8230000e+03, 2.3716000e+04, 4.3474200e+05,\n",
       "        7.9693290e+06],\n",
       "       ...,\n",
       "       [1.3400000e+02, 3.0120000e+03, 1.7956000e+04, 4.0360800e+05,\n",
       "        9.0721440e+06],\n",
       "       [1.0600000e+02, 3.2170000e+03, 1.1236000e+04, 3.4100200e+05,\n",
       "        1.0349089e+07],\n",
       "       [1.1400000e+02, 3.0620000e+03, 1.2996000e+04, 3.4906800e+05,\n",
       "        9.3758440e+06]])"
      ]
     },
     "execution_count": 23,
     "metadata": {},
     "output_type": "execute_result"
    }
   ],
   "source": [
    "pr = PolynomialFeatures(degree=2,include_bias=False)\n",
    "x_poly = pr.fit_transform(df[[\"horsepower\",\"curb-weight\"]])\n",
    "x_poly"
   ]
  },
  {
   "cell_type": "code",
   "execution_count": 25,
   "metadata": {},
   "outputs": [],
   "source": [
    "SCALE = StandardScaler()\n",
    "SCALE.fit(df[[\"horsepower\",\"highway-mpg\"]])\n",
    "x_scale=SCALE.transform(df[[\"horsepower\",\"highway-mpg\"]])"
   ]
  },
  {
   "cell_type": "code",
   "execution_count": 26,
   "metadata": {},
   "outputs": [
    {
     "data": {
      "text/plain": [
       "array([[ 0.20375448, -0.54228772],\n",
       "       [ 0.20375448, -0.54228772],\n",
       "       [ 1.3574159 , -0.689386  ],\n",
       "       [-0.03770954, -0.10099285],\n",
       "       [ 0.31107182, -1.27777915],\n",
       "       [ 0.17692514, -0.83648429],\n",
       "       [ 0.17692514, -0.83648429],\n",
       "       [ 0.17692514, -0.83648429],\n",
       "       [ 0.9818052 , -1.57197573],\n",
       "       [-0.06453888, -0.24809114],\n",
       "       [-0.06453888, -0.24809114],\n",
       "       [ 0.47204783, -0.39518943],\n",
       "       [ 0.47204783, -0.39518943],\n",
       "       [ 0.47204783, -0.83648429],\n",
       "       [ 2.10863729, -1.27777915],\n",
       "       [ 2.10863729, -1.27777915],\n",
       "       [ 2.10863729, -1.57197573],\n",
       "       [-1.48649365,  3.28226775],\n",
       "       [-0.89624827,  1.81128488],\n",
       "       [-0.89624827,  1.81128488],\n",
       "       [-0.94990694,  1.51708831],\n",
       "       [-0.94990694,  1.07579344],\n",
       "       [-0.03770954, -0.10099285],\n",
       "       [-0.94990694,  1.07579344],\n",
       "       [-0.94990694,  1.07579344],\n",
       "       [-0.94990694,  1.07579344],\n",
       "       [-0.03770954, -0.10099285],\n",
       "       [-0.41332024, -0.10099285],\n",
       "       [ 1.11595188, -0.98358258],\n",
       "       [-1.2182003 ,  3.42936604],\n",
       "       [-0.73527226,  1.07579344],\n",
       "       [-1.16454163,  1.66418659],\n",
       "       [-0.73527226,  0.48740029],\n",
       "       [-0.73527226,  0.48740029],\n",
       "       [-0.73527226,  0.48740029],\n",
       "       [-0.73527226,  0.48740029],\n",
       "       [-0.46697891,  0.34030201],\n",
       "       [-0.46697891,  0.34030201],\n",
       "       [-0.46697891,  0.34030201],\n",
       "       [-0.46697891,  0.34030201],\n",
       "       [-0.06453888, -0.39518943],\n",
       "       [-0.09136821,  0.04610543],\n",
       "       [-0.68161359, -0.24809114],\n",
       "       [-0.35966156, -0.24809114],\n",
       "       [ 1.94766128, -1.71907401],\n",
       "       [ 1.94766128, -1.71907401],\n",
       "       [ 4.25498412, -2.01327059],\n",
       "       [-0.94990694,  0.04610543],\n",
       "       [-0.94990694,  1.07579344],\n",
       "       [-0.94990694,  1.07579344],\n",
       "       [-0.94990694,  1.07579344],\n",
       "       [-0.94990694,  1.07579344],\n",
       "       [-0.06453888, -1.13068086],\n",
       "       [-0.06453888, -1.13068086],\n",
       "       [-0.06453888, -1.13068086],\n",
       "       [ 0.84765853, -1.13068086],\n",
       "       [-0.52063758,  0.19320372],\n",
       "       [-0.52063758,  0.19320372],\n",
       "       [-0.52063758,  0.19320372],\n",
       "       [-0.52063758,  0.19320372],\n",
       "       [-1.05722428,  1.66418659],\n",
       "       [-0.52063758,  0.19320372],\n",
       "       [ 0.4452185 , -0.54228772],\n",
       "       [-0.8425896 ,  1.22289173],\n",
       "       [ 0.5257065 , -0.83648429],\n",
       "       [ 0.5257065 , -0.83648429],\n",
       "       [ 0.5257065 , -0.83648429],\n",
       "       [ 0.5257065 , -0.83648429],\n",
       "       [ 1.38424523, -1.8661723 ],\n",
       "       [ 1.38424523, -1.8661723 ],\n",
       "       [ 2.16229596, -2.16036887],\n",
       "       [ 2.16229596, -2.16036887],\n",
       "       [ 1.92083194, -0.98358258],\n",
       "       [-0.94990694,  1.51708831],\n",
       "       [-0.94990694,  1.07579344],\n",
       "       [-0.94990694,  1.07579344],\n",
       "       [-0.03770954, -0.10099285],\n",
       "       [ 0.33790115, -0.10099285],\n",
       "       [-0.41332024,  0.19320372],\n",
       "       [ 1.11595188, -0.98358258],\n",
       "       [ 1.11595188, -0.98358258],\n",
       "       [ 1.11595188, -0.98358258],\n",
       "       [-0.41332024,  0.19320372],\n",
       "       [-0.41332024,  0.19320372],\n",
       "       [ 0.33790115, -0.10099285],\n",
       "       [ 0.33790115, -0.10099285],\n",
       "       [-0.92307761,  0.92869516],\n",
       "       [-1.2986883 ,  2.84097289],\n",
       "       [-0.92307761,  0.92869516],\n",
       "       [-0.92307761,  0.92869516],\n",
       "       [-0.92307761,  0.92869516],\n",
       "       [-0.92307761,  0.92869516],\n",
       "       [-0.92307761,  0.92869516],\n",
       "       [-0.92307761,  0.92869516],\n",
       "       [-0.92307761,  0.92869516],\n",
       "       [-0.92307761,  0.92869516],\n",
       "       [-0.17185622,  0.48740029],\n",
       "       [-0.17185622,  0.48740029],\n",
       "       [ 1.30375723, -1.27777915],\n",
       "       [ 1.30375723, -1.27777915],\n",
       "       [ 1.30375723, -0.83648429],\n",
       "       [ 1.51839191, -0.83648429],\n",
       "       [ 2.59156532, -1.13068086],\n",
       "       [ 1.51839191, -0.83648429],\n",
       "       [-0.17185622, -0.98358258],\n",
       "       [-0.22551489,  0.34030201],\n",
       "       [-0.17185622, -0.98358258],\n",
       "       [-0.22551489, -0.83648429],\n",
       "       [-0.22551489, -0.98358258],\n",
       "       [-0.22551489,  0.34030201],\n",
       "       [-0.22551489, -0.98358258],\n",
       "       [-0.22551489, -0.83648429],\n",
       "       [-0.17185622, -0.98358258],\n",
       "       [-0.22551489,  0.34030201],\n",
       "       [ 1.03546387, -0.98358258],\n",
       "       [-0.94990694,  1.51708831],\n",
       "       [-0.03770954, -0.10099285],\n",
       "       [-0.94990694,  1.07579344],\n",
       "       [-0.94990694,  1.07579344],\n",
       "       [-0.94990694,  1.07579344],\n",
       "       [-0.41332024, -0.10099285],\n",
       "       [ 1.11595188, -0.98358258],\n",
       "       [ 1.06229321, -0.54228772],\n",
       "       [ 2.77937067, -0.83648429],\n",
       "       [ 2.77937067, -0.83648429],\n",
       "       [ 2.77937067, -0.83648429],\n",
       "       [ 0.02282167,  0.04610543],\n",
       "       [ 0.02282167,  0.04610543],\n",
       "       [ 0.17692514, -0.39518943],\n",
       "       [ 0.17692514, -0.39518943],\n",
       "       [ 0.17692514, -0.39518943],\n",
       "       [ 0.17692514, -0.39518943],\n",
       "       [ 1.51839191, -0.689386  ],\n",
       "       [ 1.51839191, -0.689386  ],\n",
       "       [-0.92307761,  0.78159687],\n",
       "       [-0.81576027,  0.04610543],\n",
       "       [-0.81576027,  0.04610543],\n",
       "       [-0.57429625,  0.92869516],\n",
       "       [-0.57429625,  0.34030201],\n",
       "       [-0.25234422,  0.19320372],\n",
       "       [-0.57429625, -0.83648429],\n",
       "       [ 0.20375448, -0.24809114],\n",
       "       [-0.57429625,  0.19320372],\n",
       "       [-0.25234422,  0.04610543],\n",
       "       [-0.57429625, -0.24809114],\n",
       "       [ 0.20375448, -1.13068086],\n",
       "       [-1.11088295,  1.22289173],\n",
       "       [-1.11088295,  1.07579344],\n",
       "       [-1.11088295,  1.07579344],\n",
       "       [-1.11088295,  0.92869516],\n",
       "       [-1.11088295,  0.19320372],\n",
       "       [-1.11088295,  0.19320372],\n",
       "       [-0.89624827,  0.92869516],\n",
       "       [-0.89624827,  0.92869516],\n",
       "       [-1.27185897,  0.78159687],\n",
       "       [-1.27185897,  2.39967803],\n",
       "       [-0.89624827,  2.39967803],\n",
       "       [-0.89624827,  0.48740029],\n",
       "       [-0.89624827,  0.48740029],\n",
       "       [-0.89624827,  0.48740029],\n",
       "       [-0.89624827,  0.48740029],\n",
       "       [ 0.23058381, -0.24809114],\n",
       "       [ 0.23058381, -0.24809114],\n",
       "       [ 0.33790115, -0.10099285],\n",
       "       [ 0.33790115, -0.10099285],\n",
       "       [ 0.33790115, -0.10099285],\n",
       "       [ 0.33790115, -0.10099285],\n",
       "       [ 0.33790115, -0.10099285],\n",
       "       [ 0.33790115, -0.10099285],\n",
       "       [-0.30600289,  0.48740029],\n",
       "       [-0.81576027,  0.34030201],\n",
       "       [-0.30600289,  0.19320372],\n",
       "       [-0.30600289,  0.19320372],\n",
       "       [-0.30600289,  0.19320372],\n",
       "       [ 1.54522125, -0.98358258],\n",
       "       [ 1.54522125, -0.98358258],\n",
       "       [ 1.41107457, -0.98358258],\n",
       "       [ 1.41107457, -0.98358258],\n",
       "       [-1.37917631,  2.25257974],\n",
       "       [-0.49380824,  0.48740029],\n",
       "       [-1.37917631,  2.25257974],\n",
       "       [-0.49380824,  0.48740029],\n",
       "       [-0.49380824,  0.48740029],\n",
       "       [-0.94990694,  1.66418659],\n",
       "       [-0.09136821,  0.19320372],\n",
       "       [-0.35966156, -0.24809114],\n",
       "       [-0.35966156, -0.24809114],\n",
       "       [ 0.17692514, -0.98358258],\n",
       "       [-0.94990694,  1.07579344],\n",
       "       [-0.41332024,  0.04610543],\n",
       "       [ 0.28424248, -0.39518943],\n",
       "       [ 0.28424248, -0.39518943],\n",
       "       [ 0.28424248, -0.39518943],\n",
       "       [ 0.28424248, -0.39518943],\n",
       "       [ 1.57205058, -1.27777915],\n",
       "       [ 1.57205058, -1.27777915],\n",
       "       [ 0.28424248, -0.39518943],\n",
       "       [ 1.51839191, -0.83648429],\n",
       "       [ 0.82082919, -1.13068086],\n",
       "       [ 0.0696078 , -0.54228772],\n",
       "       [ 0.28424248, -0.83648429]])"
      ]
     },
     "execution_count": 26,
     "metadata": {},
     "output_type": "execute_result"
    }
   ],
   "source": [
    "x_scale"
   ]
  },
  {
   "cell_type": "code",
   "execution_count": 29,
   "metadata": {},
   "outputs": [],
   "source": [
    "Input = [(\"scale\",StandardScaler()),(\"polynomial\",PolynomialFeatures(degree=2)),(\"mode\",LinearRegression())]\n",
    "pipe = Pipeline(Input)"
   ]
  },
  {
   "cell_type": "code",
   "execution_count": null,
   "metadata": {},
   "outputs": [],
   "source": [
    "pipe.fit(df[[\"horsepower\",\"curb-weight\",\"engine-size\",\"highway-mpg\"]])\n",
    "yhat=pipe.predict(df[[\"horsepower\",\"curb-weight\",\"engine-size\",\"highway-mpg\"]])\n"
   ]
  },
  {
   "cell_type": "code",
   "execution_count": 35,
   "metadata": {},
   "outputs": [
    {
     "ename": "NameError",
     "evalue": "name 'Y_predict_simple_fit' is not defined",
     "output_type": "error",
     "traceback": [
      "\u001b[1;31m---------------------------------------------------------------------------\u001b[0m",
      "\u001b[1;31mNameError\u001b[0m                                 Traceback (most recent call last)",
      "\u001b[1;32m<ipython-input-35-c3ccdd215363>\u001b[0m in \u001b[0;36m<module>\u001b[1;34m\u001b[0m\n\u001b[1;32m----> 1\u001b[1;33m \u001b[0mmean_squared_error\u001b[0m\u001b[1;33m(\u001b[0m\u001b[0mdf\u001b[0m\u001b[1;33m[\u001b[0m\u001b[1;34m\"price\"\u001b[0m\u001b[1;33m]\u001b[0m\u001b[1;33m,\u001b[0m\u001b[0mY_predict_simple_fit\u001b[0m\u001b[1;33m)\u001b[0m\u001b[1;33m\u001b[0m\u001b[1;33m\u001b[0m\u001b[0m\n\u001b[0m",
      "\u001b[1;31mNameError\u001b[0m: name 'Y_predict_simple_fit' is not defined"
     ]
    }
   ],
   "source": [
    "mean_squared_error(df[\"price\"],Y_predict_simple_fit)"
   ]
  },
  {
   "cell_type": "code",
   "execution_count": 37,
   "metadata": {},
   "outputs": [
    {
     "data": {
      "text/plain": [
       "0.4965911884339175"
      ]
     },
     "execution_count": 37,
     "metadata": {},
     "output_type": "execute_result"
    }
   ],
   "source": [
    "X = df[[\"highway-mpg\"]]\n",
    "Y = df[\"price\"]\n",
    "lm.fit(X,Y)\n",
    "lm.score(X,Y)"
   ]
  },
  {
   "cell_type": "code",
   "execution_count": 41,
   "metadata": {},
   "outputs": [],
   "source": [
    "model1 = lm.fit(df[[\"highway-mpg\"]],df[\"price\"])"
   ]
  },
  {
   "cell_type": "code",
   "execution_count": 43,
   "metadata": {},
   "outputs": [
    {
     "data": {
      "text/plain": [
       "array([13771.3045085])"
      ]
     },
     "execution_count": 43,
     "metadata": {},
     "output_type": "execute_result"
    }
   ],
   "source": [
    "model1.predict(np.array(30.0).reshape(-1,1))"
   ]
  },
  {
   "cell_type": "code",
   "execution_count": 44,
   "metadata": {},
   "outputs": [],
   "source": [
    "new_input = np.arange(1,101,1).reshape(-1,1)"
   ]
  },
  {
   "cell_type": "code",
   "execution_count": 45,
   "metadata": {},
   "outputs": [
    {
     "data": {
      "text/plain": [
       "array([[  1],\n",
       "       [  2],\n",
       "       [  3],\n",
       "       [  4],\n",
       "       [  5],\n",
       "       [  6],\n",
       "       [  7],\n",
       "       [  8],\n",
       "       [  9],\n",
       "       [ 10],\n",
       "       [ 11],\n",
       "       [ 12],\n",
       "       [ 13],\n",
       "       [ 14],\n",
       "       [ 15],\n",
       "       [ 16],\n",
       "       [ 17],\n",
       "       [ 18],\n",
       "       [ 19],\n",
       "       [ 20],\n",
       "       [ 21],\n",
       "       [ 22],\n",
       "       [ 23],\n",
       "       [ 24],\n",
       "       [ 25],\n",
       "       [ 26],\n",
       "       [ 27],\n",
       "       [ 28],\n",
       "       [ 29],\n",
       "       [ 30],\n",
       "       [ 31],\n",
       "       [ 32],\n",
       "       [ 33],\n",
       "       [ 34],\n",
       "       [ 35],\n",
       "       [ 36],\n",
       "       [ 37],\n",
       "       [ 38],\n",
       "       [ 39],\n",
       "       [ 40],\n",
       "       [ 41],\n",
       "       [ 42],\n",
       "       [ 43],\n",
       "       [ 44],\n",
       "       [ 45],\n",
       "       [ 46],\n",
       "       [ 47],\n",
       "       [ 48],\n",
       "       [ 49],\n",
       "       [ 50],\n",
       "       [ 51],\n",
       "       [ 52],\n",
       "       [ 53],\n",
       "       [ 54],\n",
       "       [ 55],\n",
       "       [ 56],\n",
       "       [ 57],\n",
       "       [ 58],\n",
       "       [ 59],\n",
       "       [ 60],\n",
       "       [ 61],\n",
       "       [ 62],\n",
       "       [ 63],\n",
       "       [ 64],\n",
       "       [ 65],\n",
       "       [ 66],\n",
       "       [ 67],\n",
       "       [ 68],\n",
       "       [ 69],\n",
       "       [ 70],\n",
       "       [ 71],\n",
       "       [ 72],\n",
       "       [ 73],\n",
       "       [ 74],\n",
       "       [ 75],\n",
       "       [ 76],\n",
       "       [ 77],\n",
       "       [ 78],\n",
       "       [ 79],\n",
       "       [ 80],\n",
       "       [ 81],\n",
       "       [ 82],\n",
       "       [ 83],\n",
       "       [ 84],\n",
       "       [ 85],\n",
       "       [ 86],\n",
       "       [ 87],\n",
       "       [ 88],\n",
       "       [ 89],\n",
       "       [ 90],\n",
       "       [ 91],\n",
       "       [ 92],\n",
       "       [ 93],\n",
       "       [ 94],\n",
       "       [ 95],\n",
       "       [ 96],\n",
       "       [ 97],\n",
       "       [ 98],\n",
       "       [ 99],\n",
       "       [100]])"
      ]
     },
     "execution_count": 45,
     "metadata": {},
     "output_type": "execute_result"
    }
   ],
   "source": [
    "new_input"
   ]
  },
  {
   "cell_type": "code",
   "execution_count": null,
   "metadata": {},
   "outputs": [],
   "source": []
  }
 ],
 "metadata": {
  "kernelspec": {
   "display_name": "Python 3",
   "language": "python",
   "name": "python3"
  },
  "language_info": {
   "codemirror_mode": {
    "name": "ipython",
    "version": 3
   },
   "file_extension": ".py",
   "mimetype": "text/x-python",
   "name": "python",
   "nbconvert_exporter": "python",
   "pygments_lexer": "ipython3",
   "version": "3.8.5"
  }
 },
 "nbformat": 4,
 "nbformat_minor": 4
}
